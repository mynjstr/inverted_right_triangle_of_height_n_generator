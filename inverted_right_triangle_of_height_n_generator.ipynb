{
 "cells": [
  {
   "cell_type": "markdown",
   "id": "1466d390-efa0-4915-8d85-d672552ac80f",
   "metadata": {},
   "source": [
    "# Lab Exercise 4"
   ]
  },
  {
   "cell_type": "markdown",
   "id": "7538d0c0-7aae-4681-9a06-160072358fda",
   "metadata": {},
   "source": [
    "### Generate an inverted right triangle of height n."
   ]
  },
  {
   "cell_type": "code",
   "execution_count": 3,
   "id": "06aca40c-7c10-493f-8565-55ce4ca78fca",
   "metadata": {},
   "outputs": [
    {
     "name": "stdin",
     "output_type": "stream",
     "text": [
      "Enter the height of the triangle:  6\n"
     ]
    },
    {
     "name": "stdout",
     "output_type": "stream",
     "text": [
      "* * * * * * \n",
      "* * * * * \n",
      "* * * * \n",
      "* * * \n",
      "* * \n",
      "* \n"
     ]
    }
   ],
   "source": [
    "def generate_inverted_right_triangle(height):\n",
    "    for row in range(height, 0, -1):\n",
    "        for column in range(0, row):\n",
    "            print(\"*\",end=\" \")\n",
    "        print()\n",
    "\n",
    "while True:\n",
    "    try:\n",
    "        height = int(input(\"Enter the height of the triangle: \"))\n",
    "        break\n",
    "    except ValueError:\n",
    "        print(\"Please input a number!\")\n",
    "\n",
    "generate_inverted_right_triangle(height)"
   ]
  }
 ],
 "metadata": {
  "kernelspec": {
   "display_name": "Python 3 (ipykernel)",
   "language": "python",
   "name": "python3"
  },
  "language_info": {
   "codemirror_mode": {
    "name": "ipython",
    "version": 3
   },
   "file_extension": ".py",
   "mimetype": "text/x-python",
   "name": "python",
   "nbconvert_exporter": "python",
   "pygments_lexer": "ipython3",
   "version": "3.12.1"
  }
 },
 "nbformat": 4,
 "nbformat_minor": 5
}
